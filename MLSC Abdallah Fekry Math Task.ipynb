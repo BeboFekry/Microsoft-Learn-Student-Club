{
 "cells": [
  {
   "cell_type": "markdown",
   "metadata": {},
   "source": [
    "# **MLSC Math Basics for DS and ML - Task**\n",
    "## Abdallah Fekry Mohamed\n",
    "---"
   ]
  },
  {
   "cell_type": "code",
   "execution_count": 1,
   "metadata": {},
   "outputs": [
    {
     "name": "stdout",
     "output_type": "stream",
     "text": [
      "Dataset A: [4, 5, 6, 7, 8]\n",
      "Dataset B: [1, 2, 3, 4, 5, 6, 7, 8, 9, 10, 11]\n"
     ]
    }
   ],
   "source": [
    "import numpy as np\n",
    "a = list(range(4,9))\n",
    "b = list(range(1,12))\n",
    "print(\"Dataset A: \",a,\"\\nDataset B: \", b, sep='')"
   ]
  },
  {
   "cell_type": "code",
   "execution_count": 2,
   "metadata": {},
   "outputs": [],
   "source": [
    "def n_range(n):\n",
    "    maximum = max(n)\n",
    "    minimum = min(n)\n",
    "    rng = maximum - minimum\n",
    "    return rng\n",
    "\n",
    "def quantiles(n):\n",
    "    mn = min(n)\n",
    "    mx = max(n)\n",
    "    q1 = np.quantile(n, .25)\n",
    "    q2 = np.quantile(n, .50)\n",
    "    q3 = np.quantile(n, .75)\n",
    "    return mn, q1, q2, q3, mx\n",
    "\n",
    "def IQR(n):\n",
    "    q1 = np.quantile(n, .25)\n",
    "    q3 = np.quantile(n, .75)\n",
    "    IQR = q3 - q1\n",
    "    return IQR\n",
    "\n",
    "def variance(n):\n",
    "    mean = sum(n) / len(n)\n",
    "    s = 0\n",
    "    for i in n:\n",
    "        s += (i-mean)**2\n",
    "    v = s/len(n)\n",
    "    return v\n",
    "    \n",
    "def standard_deviation(n):\n",
    "    v = variance(n)\n",
    "    sd = v**0.5\n",
    "    return sd"
   ]
  },
  {
   "cell_type": "markdown",
   "metadata": {},
   "source": [
    "## For Dataset 'A'"
   ]
  },
  {
   "cell_type": "code",
   "execution_count": 3,
   "metadata": {},
   "outputs": [
    {
     "name": "stdout",
     "output_type": "stream",
     "text": [
      "Dataset A: [4, 5, 6, 7, 8]\n",
      "______________________________\n",
      "Rang:  4\n",
      "Quantiles (Min, Q1, Q2, Q3, Max): (4, 5.0, 6.0, 7.0, 8)\n",
      "IQR:  2.0\n",
      "Variance:  2.0\n",
      "Standard Deviation:  1.4142135623730951\n"
     ]
    }
   ],
   "source": [
    "print(\"Dataset A:\", a,end='\\n')\n",
    "print(\"_\"*30)\n",
    "print(\"Rang: \", n_range(a))\n",
    "print(\"Quantiles (Min, Q1, Q2, Q3, Max):\", quantiles(a))\n",
    "print(\"IQR: \", IQR(a))\n",
    "print(\"Variance: \", variance(a))\n",
    "print(\"Standard Deviation: \", standard_deviation(a))"
   ]
  },
  {
   "cell_type": "markdown",
   "metadata": {},
   "source": [
    "---"
   ]
  },
  {
   "cell_type": "markdown",
   "metadata": {},
   "source": [
    "## For Dataset 'B'"
   ]
  },
  {
   "cell_type": "code",
   "execution_count": 4,
   "metadata": {},
   "outputs": [
    {
     "name": "stdout",
     "output_type": "stream",
     "text": [
      "Dataset B: [1, 2, 3, 4, 5, 6, 7, 8, 9, 10, 11]\n",
      "__________________________________________________\n",
      "Rang:  10\n",
      "Quantiles (Min, Q1, Q2, Q3, Max): (1, 3.5, 6.0, 8.5, 11)\n",
      "IQR:  5.0\n",
      "Variance:  10.0\n",
      "Standard Deviation:  3.1622776601683795\n"
     ]
    }
   ],
   "source": [
    "print(\"Dataset B:\", b,end='\\n')\n",
    "print(\"_\"*50)\n",
    "print(\"Rang: \", n_range(b))\n",
    "print(\"Quantiles (Min, Q1, Q2, Q3, Max):\", quantiles(b))\n",
    "print(\"IQR: \", IQR(b))\n",
    "print(\"Variance: \", variance(b))\n",
    "print(\"Standard Deviation: \", standard_deviation(b))"
   ]
  },
  {
   "cell_type": "markdown",
   "metadata": {},
   "source": [
    "---"
   ]
  }
 ],
 "metadata": {
  "kernelspec": {
   "display_name": "base",
   "language": "python",
   "name": "python3"
  },
  "language_info": {
   "codemirror_mode": {
    "name": "ipython",
    "version": 3
   },
   "file_extension": ".py",
   "mimetype": "text/x-python",
   "name": "python",
   "nbconvert_exporter": "python",
   "pygments_lexer": "ipython3",
   "version": "3.9.18"
  }
 },
 "nbformat": 4,
 "nbformat_minor": 2
}
